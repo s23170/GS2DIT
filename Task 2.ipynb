{
  "nbformat": 4,
  "nbformat_minor": 0,
  "metadata": {
    "colab": {
      "provenance": [],
      "authorship_tag": "ABX9TyOh0TKiisCPqTSqJNF1EUMu",
      "include_colab_link": true
    },
    "kernelspec": {
      "name": "python3",
      "display_name": "Python 3"
    },
    "language_info": {
      "name": "python"
    }
  },
  "cells": [
    {
      "cell_type": "markdown",
      "metadata": {
        "id": "view-in-github",
        "colab_type": "text"
      },
      "source": [
        "<a href=\"https://colab.research.google.com/github/s23170/GS2DIT/blob/main/Task%202.ipynb\" target=\"_parent\"><img src=\"https://colab.research.google.com/assets/colab-badge.svg\" alt=\"Open In Colab\"/></a>"
      ]
    },
    {
      "cell_type": "markdown",
      "source": [
        "#Section 1"
      ],
      "metadata": {
        "id": "8JirAUf5K_Rk"
      }
    },
    {
      "cell_type": "code",
      "source": [
        "a=1"
      ],
      "metadata": {
        "id": "Uch0vp5KLwpO"
      },
      "execution_count": 3,
      "outputs": []
    },
    {
      "cell_type": "code",
      "source": [
        "b=2"
      ],
      "metadata": {
        "id": "C9oCWv00LzH3"
      },
      "execution_count": 1,
      "outputs": []
    },
    {
      "cell_type": "code",
      "source": [
        "a+b"
      ],
      "metadata": {
        "colab": {
          "base_uri": "https://localhost:8080/"
        },
        "id": "l9v68EydLzX4",
        "outputId": "2d7dd939-876c-42e7-85b0-3d30cf4bea96"
      },
      "execution_count": 4,
      "outputs": [
        {
          "output_type": "execute_result",
          "data": {
            "text/plain": [
              "3"
            ]
          },
          "metadata": {},
          "execution_count": 4
        }
      ]
    },
    {
      "cell_type": "markdown",
      "source": [
        "#Section 2"
      ],
      "metadata": {
        "id": "iCucjnJcLDy7"
      }
    },
    {
      "cell_type": "markdown",
      "source": [
        "**print(\"hello world\")**"
      ],
      "metadata": {
        "id": "W79BSkB_L-zp"
      }
    },
    {
      "cell_type": "markdown",
      "source": [
        "*print(\"hello world\")*"
      ],
      "metadata": {
        "id": "nZ9ri4g3ME-p"
      }
    },
    {
      "cell_type": "markdown",
      "source": [
        "`print(\"hello world\")`"
      ],
      "metadata": {
        "id": "Xh8Ibgp9MLgp"
      }
    }
  ]
}